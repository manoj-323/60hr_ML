{
 "cells": [
  {
   "cell_type": "code",
   "execution_count": 1,
   "metadata": {},
   "outputs": [],
   "source": [
    "import numpy as np"
   ]
  },
  {
   "cell_type": "code",
   "execution_count": null,
   "metadata": {},
   "outputs": [],
   "source": [
    "from ctypes.wintypes import DWORD\n",
    "\n",
    "\n",
    "class Lasso_Regrerssion:\n",
    "    def __init__(self, no_of_iterations, learning_rate, lambda_value):\n",
    "        self.no_of_iterations = no_of_iterations\n",
    "        self.learning_rate = learning_rate\n",
    "        self.lambda_value = lambda_value\n",
    "\n",
    "    def fit(self, x, y):\n",
    "        # m-> no. of datapoints\n",
    "        # n-> no. of features\n",
    "        self.m, self.n = x.shape\n",
    "        self.w = np.zeros(self.n)\n",
    "        self.b = 0\n",
    "        self.x = x\n",
    "        self.y = y\n",
    "\n",
    "        for i in range(self.no_of_iterations):\n",
    "            self.update_weights()\n",
    "\n",
    "    def update_weights(self):\n",
    "\n",
    "        # gradient for weight\n",
    "        dw = np.zeros(self.n)\n",
    "\n",
    "        y_pred = self.predict(self.x)\n",
    "\n",
    "        for i in range(self.n):\n",
    "            if self.w[i] > 0:\n",
    "                dw[i] = (-(2*(self.x[:,i]).dot(self.y + y_pred)) + self.lambda_value)/self.m\n",
    "            else:\n",
    "                dw[i] = (-(2*(self.x[:,i]).dot(self.y - y_pred)) + self.lambda_value)/self.m\n",
    "\n",
    "        db = -2*np.sum(self.y - y_pred) / self.m\n",
    "\n",
    "        self.w = self.w - self.learning_rate*dw\n",
    "        self.b = self.b - self.learning_rate*db\n",
    "\n",
    "    def predict(self, x):\n",
    "        return x.dot(self.w) + self.b"
   ]
  }
 ],
 "metadata": {
  "kernelspec": {
   "display_name": "base",
   "language": "python",
   "name": "python3"
  },
  "language_info": {
   "codemirror_mode": {
    "name": "ipython",
    "version": 3
   },
   "file_extension": ".py",
   "mimetype": "text/x-python",
   "name": "python",
   "nbconvert_exporter": "python",
   "pygments_lexer": "ipython3",
   "version": "3.11.5"
  }
 },
 "nbformat": 4,
 "nbformat_minor": 2
}
