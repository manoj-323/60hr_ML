{
 "cells": [
  {
   "cell_type": "code",
   "execution_count": 60,
   "metadata": {},
   "outputs": [],
   "source": [
    "import numpy as np"
   ]
  },
  {
   "cell_type": "markdown",
   "metadata": {},
   "source": [
    "# creating matrix using numpy"
   ]
  },
  {
   "cell_type": "code",
   "execution_count": 90,
   "metadata": {},
   "outputs": [
    {
     "name": "stdout",
     "output_type": "stream",
     "text": [
      "<class 'numpy.matrix'>\n",
      "[[2 2]]\n"
     ]
    }
   ],
   "source": [
    "matrix_0 = np.matrix([2,2], dtype=int)\n",
    "print(type(matrix_0))\n",
    "print(matrix_0)"
   ]
  },
  {
   "cell_type": "code",
   "execution_count": 83,
   "metadata": {},
   "outputs": [
    {
     "name": "stdout",
     "output_type": "stream",
     "text": [
      "[[3 3 3]\n",
      " [4 5 5]]\n"
     ]
    }
   ],
   "source": [
    "matrix_1 = np.array([[3,3,3],[4,5,5]])\n",
    "print(matrix_1)"
   ]
  },
  {
   "cell_type": "code",
   "execution_count": 62,
   "metadata": {},
   "outputs": [
    {
     "data": {
      "text/plain": [
       "(2, 3)"
      ]
     },
     "execution_count": 62,
     "metadata": {},
     "output_type": "execute_result"
    }
   ],
   "source": [
    "matrix_1.shape"
   ]
  },
  {
   "cell_type": "code",
   "execution_count": 63,
   "metadata": {},
   "outputs": [
    {
     "data": {
      "text/plain": [
       "6"
      ]
     },
     "execution_count": 63,
     "metadata": {},
     "output_type": "execute_result"
    }
   ],
   "source": [
    "matrix_1.size"
   ]
  },
  {
   "cell_type": "code",
   "execution_count": 64,
   "metadata": {},
   "outputs": [
    {
     "name": "stdout",
     "output_type": "stream",
     "text": [
      "[[1 2 3]\n",
      " [4 5 6]\n",
      " [7 8 9]]\n"
     ]
    }
   ],
   "source": [
    "matrix_2 = np.array([[1,2,3],[4,5,6],[7,8,9]])\n",
    "print(matrix_2)"
   ]
  },
  {
   "cell_type": "markdown",
   "metadata": {},
   "source": [
    "# creating matrices with random values"
   ]
  },
  {
   "cell_type": "code",
   "execution_count": 65,
   "metadata": {},
   "outputs": [
    {
     "name": "stdout",
     "output_type": "stream",
     "text": [
      "[[7.19348576 1.72434809 8.75800963]\n",
      " [0.90531985 5.7633127  4.89834758]\n",
      " [0.6960554  0.90821871 9.6497719 ]]\n"
     ]
    }
   ],
   "source": [
    "matrix_3 = np.random.rand(3,3)*10\n",
    "print(matrix_3)"
   ]
  },
  {
   "cell_type": "code",
   "execution_count": 66,
   "metadata": {},
   "outputs": [
    {
     "name": "stdout",
     "output_type": "stream",
     "text": [
      "[[ 8  3 12]\n",
      " [ 2  3  6]\n",
      " [ 8 13 13]]\n"
     ]
    }
   ],
   "source": [
    "matrix_4 = np.random.randint(1,15,size=(3,3))\n",
    "print(matrix_4)"
   ]
  },
  {
   "cell_type": "code",
   "execution_count": 67,
   "metadata": {},
   "outputs": [
    {
     "name": "stdout",
     "output_type": "stream",
     "text": [
      "[[1 1]\n",
      " [1 1]]\n"
     ]
    }
   ],
   "source": [
    "matrix_5 = np.ones((2,2), dtype = int)\n",
    "print(matrix_5)"
   ]
  },
  {
   "cell_type": "markdown",
   "metadata": {},
   "source": [
    "## null or zero matrix"
   ]
  },
  {
   "cell_type": "code",
   "execution_count": 68,
   "metadata": {},
   "outputs": [
    {
     "name": "stdout",
     "output_type": "stream",
     "text": [
      "[[0 0]\n",
      " [0 0]]\n"
     ]
    }
   ],
   "source": [
    "matrix_6 = np.zeros(shape=(2,2), dtype = int)\n",
    "print(matrix_6)"
   ]
  },
  {
   "cell_type": "markdown",
   "metadata": {},
   "source": [
    "## identity matrix"
   ]
  },
  {
   "cell_type": "code",
   "execution_count": 69,
   "metadata": {},
   "outputs": [
    {
     "name": "stdout",
     "output_type": "stream",
     "text": [
      "[[1. 0.]\n",
      " [0. 1.]]\n"
     ]
    }
   ],
   "source": [
    "matrix_7 = np.identity(2) # or np.eye()\n",
    "print(matrix_7)"
   ]
  },
  {
   "cell_type": "markdown",
   "metadata": {},
   "source": [
    "## transpose of a matrix"
   ]
  },
  {
   "cell_type": "code",
   "execution_count": 70,
   "metadata": {},
   "outputs": [
    {
     "name": "stdout",
     "output_type": "stream",
     "text": [
      "[[6.81346461 6.37501313 6.61705825]\n",
      " [5.39588543 0.93154055 2.8237368 ]\n",
      " [6.75723136 2.47492321 7.42663747]]\n"
     ]
    }
   ],
   "source": [
    "matrix_8 = np.random.rand(3,3)*10\n",
    "print(matrix_8)"
   ]
  },
  {
   "cell_type": "code",
   "execution_count": 71,
   "metadata": {},
   "outputs": [
    {
     "name": "stdout",
     "output_type": "stream",
     "text": [
      "[[6.81346461 5.39588543 6.75723136]\n",
      " [6.37501313 0.93154055 2.47492321]\n",
      " [6.61705825 2.8237368  7.42663747]]\n"
     ]
    }
   ],
   "source": [
    "transpose_8 = np.transpose(matrix_8)\n",
    "print(transpose_8)"
   ]
  },
  {
   "cell_type": "markdown",
   "metadata": {},
   "source": [
    "## matrix addition, substraction and multiplication"
   ]
  },
  {
   "cell_type": "code",
   "execution_count": 72,
   "metadata": {},
   "outputs": [
    {
     "name": "stdout",
     "output_type": "stream",
     "text": [
      "[[3 3 3]\n",
      " [4 5 5]]\n",
      "[[ 6  6  6]\n",
      " [ 8 10 10]]\n",
      "[[0 0 0]\n",
      " [0 0 0]]\n"
     ]
    }
   ],
   "source": [
    "print(matrix_1)\n",
    "print(matrix_1+matrix_1)\n",
    "print(matrix_1-matrix_1)"
   ]
  },
  {
   "cell_type": "code",
   "execution_count": 112,
   "metadata": {},
   "outputs": [],
   "source": [
    "np.random.seed(1)"
   ]
  },
  {
   "cell_type": "code",
   "execution_count": 113,
   "metadata": {},
   "outputs": [
    {
     "name": "stdout",
     "output_type": "stream",
     "text": [
      "<class 'numpy.ndarray'> \n",
      " [[6 9 6]\n",
      " [1 1 2]]\n",
      "<class 'numpy.ndarray'> \n",
      " [[8 7]\n",
      " [3 5]\n",
      " [6 3]]\n",
      "<class 'numpy.ndarray'> \n",
      " [[111 105]\n",
      " [ 23  18]]\n"
     ]
    }
   ],
   "source": [
    "m_1 = np.random.randint(1,10,size=(2,3))\n",
    "m_2 = np.random.randint(1,10,size=(3,2))\n",
    "m_3 = np.dot(m_1,m_2)\n",
    "print(type(m_1), '\\n',m_1)\n",
    "print(type(m_2), '\\n',m_2)\n",
    "print(type(m_3), '\\n',m_3)"
   ]
  },
  {
   "cell_type": "code",
   "execution_count": 114,
   "metadata": {},
   "outputs": [
    {
     "name": "stdout",
     "output_type": "stream",
     "text": [
      "<class 'numpy.matrix'> \n",
      " [[6 9 6]\n",
      " [1 1 2]]\n",
      "<class 'numpy.matrix'> \n",
      " [[8 7]\n",
      " [3 5]\n",
      " [6 3]]\n",
      "<class 'numpy.matrix'> \n",
      " [[111 105]\n",
      " [ 23  18]]\n"
     ]
    }
   ],
   "source": [
    "from numpy import matrix\n",
    "\n",
    "\n",
    "m_1 = matrix(m_1)\n",
    "m_2 = matrix(m_2)\n",
    "m_3 = m_1*m_2\n",
    "print(type(m_1), '\\n',m_1)\n",
    "print(type(m_2), '\\n',m_2)\n",
    "print(type(m_3), '\\n',m_3)"
   ]
  },
  {
   "cell_type": "markdown",
   "metadata": {},
   "source": [
    "**element wise multiplication**"
   ]
  },
  {
   "cell_type": "code",
   "execution_count": 119,
   "metadata": {},
   "outputs": [
    {
     "name": "stdout",
     "output_type": "stream",
     "text": [
      "<class 'numpy.ndarray'> \n",
      " [[8 8 8]\n",
      " [4 1 9]\n",
      " [8 8 2]]\n",
      "<class 'numpy.ndarray'> \n",
      " [[2 4 1]\n",
      " [9 7 5]\n",
      " [6 7 3]]\n",
      "<class 'numpy.ndarray'> \n",
      " [[16 32  8]\n",
      " [36  7 45]\n",
      " [48 56  6]]\n"
     ]
    }
   ],
   "source": [
    "m_1 = np.random.randint(1,10,size=(3,3))\n",
    "m_2 = np.random.randint(1,10,size=(3,3))\n",
    "m_3 = m_1*m_2 # or np.multiply(m_1, m_2)\n",
    "print(type(m_1), '\\n',m_1)\n",
    "print(type(m_2), '\\n',m_2)\n",
    "print(type(m_3), '\\n',m_3)"
   ]
  },
  {
   "cell_type": "code",
   "execution_count": null,
   "metadata": {},
   "outputs": [],
   "source": []
  }
 ],
 "metadata": {
  "kernelspec": {
   "display_name": "base",
   "language": "python",
   "name": "python3"
  },
  "language_info": {
   "codemirror_mode": {
    "name": "ipython",
    "version": 3
   },
   "file_extension": ".py",
   "mimetype": "text/x-python",
   "name": "python",
   "nbconvert_exporter": "python",
   "pygments_lexer": "ipython3",
   "version": "3.11.5"
  }
 },
 "nbformat": 4,
 "nbformat_minor": 2
}
