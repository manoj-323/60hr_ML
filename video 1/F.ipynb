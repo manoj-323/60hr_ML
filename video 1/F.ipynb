{
 "cells": [
  {
   "cell_type": "markdown",
   "metadata": {},
   "source": [
    "# Feature extraction of text data:\n",
    "#                    Tf-idf Vectorizer"
   ]
  },
  {
   "cell_type": "markdown",
   "metadata": {},
   "source": [
    "Feature extraction:\n",
    "\n",
    "    The mapping from textual data to real valued vectors is called feature extraction.\n",
    "\n",
    "Bag Of Words(BOW):\n",
    "\n",
    "    list of unique words in the text corpus\n",
    "\n",
    "Term Frequency-Inverse Document Frequency(TF-IDF):\n",
    "\n",
    "    To count the number of times each word appears in a document\n",
    "\n",
    "    Term Frequency(TF) = (Number of times term t appear in a document) / (\n",
    "        Number of terms in the document)\n",
    "\n",
    "    Inverse Document Frequency(IDF) = log(N/n), where, N is the number of words and n is the number of documents a term t has appeared in\n",
    "\n",
    "    The IDF value of a rare word is high, whereas the IDF of a frequent word is low\n",
    "\n",
    "    TF-IDF value of a term = TF * IDF"
   ]
  },
  {
   "cell_type": "markdown",
   "metadata": {},
   "source": [
    "he showed code from a project so i can't write it but it is easy in the video 1 at 7:45:00 hr(approx.) or google it :)"
   ]
  },
  {
   "cell_type": "markdown",
   "metadata": {},
   "source": []
  }
 ],
 "metadata": {
  "kernelspec": {
   "display_name": "base",
   "language": "python",
   "name": "python3"
  },
  "language_info": {
   "name": "python",
   "version": "3.11.5"
  }
 },
 "nbformat": 4,
 "nbformat_minor": 2
}
